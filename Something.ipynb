{
 "cells": [
  {
   "cell_type": "code",
   "execution_count": 1,
   "metadata": {},
   "outputs": [],
   "source": [
    "# test"
   ]
  },
  {
   "cell_type": "code",
   "execution_count": 1,
   "metadata": {},
   "outputs": [
    {
     "name": "stdin",
     "output_type": "stream",
     "text": [
      "Enter your name: Teoh\n"
     ]
    }
   ],
   "source": [
    "name = input(\"Enter your name:\")"
   ]
  },
  {
   "cell_type": "code",
   "execution_count": 2,
   "metadata": {},
   "outputs": [
    {
     "name": "stdin",
     "output_type": "stream",
     "text": [
      "Enter your favorite number (what happens is a surprise): 20\n"
     ]
    }
   ],
   "source": [
    "iterations = int(input(\"Enter your favorite number (what happens is a surprise):\"))"
   ]
  },
  {
   "cell_type": "code",
   "execution_count": 8,
   "metadata": {},
   "outputs": [
    {
     "name": "stdout",
     "output_type": "stream",
     "text": [
      "Teoh 1\n",
      "Teoh 2\n",
      "Teoh 3\n",
      "Teoh 4\n",
      "Teoh 5\n",
      "Teoh 6\n",
      "Teoh 7\n",
      "Teoh 8\n",
      "Teoh 9\n",
      "Teoh 10\n",
      "Teoh 11\n",
      "Teoh 12\n",
      "Teoh 13\n",
      "Teoh 14\n",
      "Teoh 15\n",
      "Teoh 16\n",
      "Teoh 17\n",
      "Teoh 18\n",
      "Teoh 19\n",
      "Teoh 20\n"
     ]
    }
   ],
   "source": [
    "for i in range(iterations):\n",
    "    print(name + \" \" +str(i+1))"
   ]
  },
  {
   "cell_type": "code",
   "execution_count": 4,
   "metadata": {},
   "outputs": [
    {
     "name": "stdin",
     "output_type": "stream",
     "text": [
      "Enter a string:  fd\n"
     ]
    },
    {
     "name": "stdout",
     "output_type": "stream",
     "text": [
      "FD\n"
     ]
    }
   ],
   "source": [
    "ahh = input(\"Enter a string: \")\n",
    "print(ahh.upper())"
   ]
  },
  {
   "cell_type": "code",
   "execution_count": null,
   "metadata": {},
   "outputs": [],
   "source": []
  }
 ],
 "metadata": {
  "kernelspec": {
   "display_name": "Python 3",
   "language": "python",
   "name": "python3"
  },
  "language_info": {
   "codemirror_mode": {
    "name": "ipython",
    "version": 3
   },
   "file_extension": ".py",
   "mimetype": "text/x-python",
   "name": "python",
   "nbconvert_exporter": "python",
   "pygments_lexer": "ipython3",
   "version": "3.6.7"
  }
 },
 "nbformat": 4,
 "nbformat_minor": 4
}
